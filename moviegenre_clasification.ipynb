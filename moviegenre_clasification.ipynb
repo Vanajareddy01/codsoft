{
  "nbformat": 4,
  "nbformat_minor": 0,
  "metadata": {
    "colab": {
      "provenance": [],
      "authorship_tag": "ABX9TyMkUDt1N0fvAbKNXYq4xJVy",
      "include_colab_link": true
    },
    "kernelspec": {
      "name": "python3",
      "display_name": "Python 3"
    },
    "language_info": {
      "name": "python"
    }
  },
  "cells": [
    {
      "cell_type": "markdown",
      "metadata": {
        "id": "view-in-github",
        "colab_type": "text"
      },
      "source": [
        "<a href=\"https://colab.research.google.com/github/Vanajareddy01/codsoft/blob/main/moviegenre_clasification.ipynb\" target=\"_parent\"><img src=\"https://colab.research.google.com/assets/colab-badge.svg\" alt=\"Open In Colab\"/></a>"
      ]
    },
    {
      "cell_type": "code",
      "execution_count": 2,
      "metadata": {
        "colab": {
          "base_uri": "https://localhost:8080/"
        },
        "id": "Kjf84BfXxOux",
        "outputId": "18f91112-3cca-4e2e-a538-e5977370404d"
      },
      "outputs": [
        {
          "output_type": "stream",
          "name": "stdout",
          "text": [
            "Sample Data:\n",
            "        movie title - year      genre               expanded-genres  rating  \\\n",
            "0      Flaming Ears - 1992    Fantasy               Fantasy, Sci-Fi     6.0   \n",
            "1    Jeg elsker dig - 1957    Romance        Comedy, Drama, Romance     5.8   \n",
            "2        Povjerenje - 2021   Thriller                      Thriller     NaN   \n",
            "3  Gulliver Returns - 2021    Fantasy  Animation, Adventure, Family     4.4   \n",
            "4   Prithvi Vallabh - 1924  Biography     Biography, Drama, Romance     NaN   \n",
            "\n",
            "                                         description  \n",
            "0  Flaming Ears is a pop sci-fi lesbian fantasy f...  \n",
            "1  Six people - three couples - meet at random at...  \n",
            "2  In a small unnamed town, in year 2025, Krsto w...  \n",
            "3  The legendary Gulliver returns to the Kingdom ...  \n",
            "4  Seminal silent historical film, the story feat...  \n",
            "\n",
            "Movie Genre Classification Report:\n"
          ]
        },
        {
          "output_type": "stream",
          "name": "stderr",
          "text": [
            "/usr/local/lib/python3.12/dist-packages/sklearn/metrics/_classification.py:1565: UndefinedMetricWarning: Precision is ill-defined and being set to 0.0 in labels with no predicted samples. Use `zero_division` parameter to control this behavior.\n",
            "  _warn_prf(average, modifier, f\"{metric.capitalize()} is\", len(result))\n"
          ]
        },
        {
          "output_type": "stream",
          "name": "stdout",
          "text": [
            "              precision    recall  f1-score   support\n",
            "\n",
            "      Action       0.32      0.37      0.34      6256\n",
            "   Adventure       0.24      0.17      0.20      3200\n",
            "   Animation       0.37      0.12      0.18      1042\n",
            "   Biography       0.46      0.31      0.37      1077\n",
            "       Crime       0.32      0.29      0.30      4732\n",
            "      Family       0.29      0.24      0.26      2119\n",
            "     Fantasy       0.23      0.13      0.16      2267\n",
            "   Film-noir       0.00      0.00      0.00       178\n",
            "     History       0.26      0.16      0.20      1055\n",
            "      Horror       0.42      0.49      0.45      4897\n",
            "     Mystery       0.19      0.06      0.09      2652\n",
            "     Romance       0.44      0.65      0.52      6722\n",
            "       Scifi       0.37      0.32      0.34      2292\n",
            "      Sports       0.45      0.30      0.36       605\n",
            "    Thriller       0.28      0.35      0.31      7236\n",
            "         War       0.43      0.39      0.41      1322\n",
            "\n",
            "    accuracy                           0.35     47652\n",
            "   macro avg       0.32      0.27      0.28     47652\n",
            "weighted avg       0.33      0.35      0.33     47652\n",
            "\n"
          ]
        },
        {
          "output_type": "stream",
          "name": "stderr",
          "text": [
            "/usr/local/lib/python3.12/dist-packages/sklearn/metrics/_classification.py:1565: UndefinedMetricWarning: Precision is ill-defined and being set to 0.0 in labels with no predicted samples. Use `zero_division` parameter to control this behavior.\n",
            "  _warn_prf(average, modifier, f\"{metric.capitalize()} is\", len(result))\n",
            "/usr/local/lib/python3.12/dist-packages/sklearn/metrics/_classification.py:1565: UndefinedMetricWarning: Precision is ill-defined and being set to 0.0 in labels with no predicted samples. Use `zero_division` parameter to control this behavior.\n",
            "  _warn_prf(average, modifier, f\"{metric.capitalize()} is\", len(result))\n"
          ]
        }
      ],
      "source": [
        "!pip install datasets scikit-learn --quiet\n",
        "\n",
        "import pandas as pd\n",
        "from datasets import load_dataset\n",
        "from sklearn.model_selection import train_test_split\n",
        "from sklearn.feature_extraction.text import TfidfVectorizer\n",
        "from sklearn.linear_model import LogisticRegression\n",
        "from sklearn.metrics import classification_report\n",
        "\n",
        "\n",
        "movie_data = load_dataset(\"jquigl/imdb-genres\")\n",
        "df = pd.DataFrame(movie_data['train'])\n",
        "print(\"Sample Data:\")\n",
        "print(df.head())\n",
        "\n",
        "\n",
        "X = df[\"description\"]\n",
        "y = df[\"genre\"]\n",
        "\n",
        "\n",
        "tfidf = TfidfVectorizer(max_features=5000, stop_words=\"english\")\n",
        "X_tfidf = tfidf.fit_transform(X)\n",
        "\n",
        "\n",
        "X_train, X_test, y_train, y_test = train_test_split(X_tfidf, y, test_size=0.2, random_state=42)\n",
        "\n",
        "\n",
        "model = LogisticRegression(max_iter=1000)\n",
        "model.fit(X_train, y_train)\n",
        "y_pred = model.predict(X_test)\n",
        "print(\"\\nMovie Genre Classification Report:\")\n",
        "print(classification_report(y_test, y_pred))\n",
        "\n"
      ]
    }
  ]
}